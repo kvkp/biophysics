{
 "cells": [
  {
   "cell_type": "markdown",
   "id": "b7cf91a4",
   "metadata": {},
   "source": [
    "# Computer Lab 2 — continued ...\n",
    "\n",
    "Work through Part 3 of the \"Second Computer Lab\" (Chapter 7) in _A Student's Guide to Python._  This exercise focuses on the Poisson distribution and waiting times.\n",
    "\n",
    "You can use this notebook to store your code, plots, and notes, or you can write a ___script___ (see Section 3.3) that will carry out the analysis and produce the plots, and simply write your comments and observations in this notebook.  If you write a script, it should save your plot with the data and your best fit to a PDF, JPG, or PNG in this folder when it runs."
   ]
  },
  {
   "cell_type": "code",
   "execution_count": 124,
   "id": "8359528b",
   "metadata": {},
   "outputs": [
    {
     "data": {
      "text/plain": [
       "Text(0.5, 1.0, 'Poisson distribution')"
      ]
     },
     "execution_count": 124,
     "metadata": {},
     "output_type": "execute_result"
    },
    {
     "data": {
      "image/png": "[encoded data removed]",
      "text/plain": [
       "<Figure size 432x288 with 1 Axes>"
      ]
     },
     "metadata": {
      "needs_background": "light"
     },
     "output_type": "display_data"
    }
   ],
   "source": [
    "import numpy as np\n",
    "import matplotlib.pyplot as plt\n",
    "import math\n",
    "from scipy.special import factorial\n",
    "from numpy.random import default_rng\n",
    "\n",
    "\n",
    "l=np.arange(100)\n",
    "p=np.exp(-8)*8**l/factorial(l)\n",
    "    \n",
    "    \n",
    "plt.plot(l,p)\n",
    "plt.xlabel(\"number of heads\")\n",
    "plt.ylabel(\"probability\")\n",
    "plt.title(\"Poisson distribution\")\n"
   ]
  },
  {
   "cell_type": "code",
   "execution_count": 118,
   "id": "2a025fbe",
   "metadata": {},
   "outputs": [
    {
     "name": "stdout",
     "output_type": "stream",
     "text": [
      "count is [7, 11, 6, 7, 6, 3, 8, 12, 3, 7, 7, 7, 7, 12, 4, 10, 9, 5, 11, 8, 5, 11, 4, 6, 12, 9, 5, 10, 5, 7, 3, 9, 12, 7, 12, 12, 7, 12, 10, 6, 9, 7, 6, 9, 6, 5, 8, 7, 11, 10, 9, 10, 7, 9, 6, 11, 7, 6, 5, 10, 10, 8, 4, 7, 11, 7, 7, 10, 12, 9, 5, 6, 10, 1, 9, 2, 2, 8, 8, 7, 10, 7, 9, 6, 12, 10, 6, 11, 2, 5, 5, 15, 8, 10, 6, 6, 11, 10, 4, 9]\n"
     ]
    }
   ],
   "source": [
    "# Standard setup\n",
    "import numpy as np\n",
    "import matplotlib.pyplot as plt\n",
    "\n",
    "# Get a random number generator.\n",
    "from numpy.random import default_rng\n",
    "rng = default_rng()\n",
    "rand = rng.random\n",
    "\n",
    "\n",
    "# Define the problem.\n",
    "Ntrials = 100\n",
    "Nflips = 100\n",
    "Nstart = 5\n",
    "\n",
    "# Create an array to store the data we want.\n",
    "data = np.zeros(Ntrials)\n",
    "count = 0\n",
    "\n",
    "t=[]\n",
    "s=[]\n",
    "for i in range(Ntrials):\n",
    "    count = 0\n",
    "    for n in range(Nflips):\n",
    "        flip = rand(1)\n",
    "\n",
    "        if any(flip > 0.92):\n",
    "            count += 1\n",
    "        else:\n",
    "            count = count \n",
    "    \n",
    "    t.append(count)\n",
    "    \n",
    "\n",
    "# Now use the data set to answer the question.\n",
    "if count == 0:\n",
    "    s.append(count)\n",
    "else:\n",
    "    s.append(count)\n",
    "    print(\"count is\", t)\n",
    "\n",
    "\n"
   ]
  },
  {
   "cell_type": "code",
   "execution_count": 121,
   "id": "1d2c8250",
   "metadata": {},
   "outputs": [
    {
     "data": {
      "text/plain": [
       "(0.0, 15.0)"
      ]
     },
     "execution_count": 121,
     "metadata": {},
     "output_type": "execute_result"
    },
    {
     "data": {
      "image/png": "[encoded data removed]",
      "text/plain": [
       "<Figure size 432x288 with 1 Axes>"
      ]
     },
     "metadata": {
      "needs_background": "light"
     },
     "output_type": "display_data"
    }
   ],
   "source": [
    "plt.hist(t, bins=15)\n",
    "plt.xlim([0, 15])"
   ]
  },
  {
   "cell_type": "code",
   "execution_count": 127,
   "id": "14ea2963",
   "metadata": {},
   "outputs": [
    {
     "data": {
      "text/plain": [
       "[<matplotlib.lines.Line2D at 0x2f4c08ce850>]"
      ]
     },
     "execution_count": 127,
     "metadata": {},
     "output_type": "execute_result"
    },
    {
     "data": {
      "image/png": "[encoded data removed]",
      "text/plain": [
       "<Figure size 432x288 with 1 Axes>"
      ]
     },
     "metadata": {
      "needs_background": "light"
     },
     "output_type": "display_data"
    }
   ],
   "source": [
    "\n",
    "lt=np.arange(100)\n",
    "pt=np.exp(-8)*8**l/factorial(l)*120\n",
    "\n",
    "plt.hist(t, bins=15)\n",
    "plt.xlim([0, 15])\n",
    "plt.plot(lt,pt)"
   ]
  },
  {
   "cell_type": "code",
   "execution_count": 139,
   "id": "5504f022",
   "metadata": {},
   "outputs": [],
   "source": [
    "# Standard setup\n",
    "import numpy as np\n",
    "import matplotlib.pyplot as plt\n",
    "\n",
    "# Get a random number generator.\n",
    "from numpy.random import default_rng\n",
    "rng = default_rng()\n",
    "rand = rng.random\n",
    "\n",
    "\n",
    "# Define the problem.\n",
    "Ntrials = 1000\n",
    "Nflips = 100\n",
    "Nstart = 5\n",
    "\n",
    "# Create an array to store the data we want.\n",
    "data = np.zeros(Ntrials)\n",
    "count = 0\n",
    "\n",
    "t=[]\n",
    "s=[]\n",
    "for i in range(Ntrials):\n",
    "    count = 0\n",
    "    for n in range(Nflips):\n",
    "        flip = rand(1)\n",
    "\n",
    "        if any(flip > 0.92):\n",
    "            count += 1\n",
    "        else:\n",
    "            count = count \n",
    "    \n",
    "    t.append(count)\n",
    "    \n",
    "\n",
    "# Now use the data set to answer the question.\n",
    "if count == 0:\n",
    "    s.append(count)\n",
    "else:\n",
    "    s.append(count)\n",
    "    #print(\"count is\", t)\n",
    "\n",
    "\n"
   ]
  },
  {
   "cell_type": "code",
   "execution_count": 140,
   "id": "a1bbbd45",
   "metadata": {},
   "outputs": [
    {
     "data": {
      "text/plain": [
       "(0.0, 15.0)"
      ]
     },
     "execution_count": 140,
     "metadata": {},
     "output_type": "execute_result"
    },
    {
     "data": {
      "image/png": "[encoded data removed]",
      "text/plain": [
       "<Figure size 432x288 with 1 Axes>"
      ]
     },
     "metadata": {
      "needs_background": "light"
     },
     "output_type": "display_data"
    }
   ],
   "source": [
    "plt.hist(t, bins=15)\n",
    "plt.xlim([0, 15])"
   ]
  },
  {
   "cell_type": "code",
   "execution_count": 141,
   "id": "2d6f0314",
   "metadata": {},
   "outputs": [
    {
     "data": {
      "text/plain": [
       "[<matplotlib.lines.Line2D at 0x2f4c1bc82e0>]"
      ]
     },
     "execution_count": 141,
     "metadata": {},
     "output_type": "execute_result"
    },
    {
     "data": {
      "image/png": "[encoded data removed]",
      "text/plain": [
       "<Figure size 432x288 with 1 Axes>"
      ]
     },
     "metadata": {
      "needs_background": "light"
     },
     "output_type": "display_data"
    }
   ],
   "source": [
    "\n",
    "lt=np.arange(100)\n",
    "pt=np.exp(-8)*8**l/factorial(l)*1200\n",
    "\n",
    "plt.hist(t, bins=15)\n",
    "plt.xlim([0, 15])\n",
    "plt.plot(lt,pt)"
   ]
  },
  {
   "cell_type": "code",
   "execution_count": null,
   "id": "ab4029cd",
   "metadata": {},
   "outputs": [],
   "source": []
  }
 ],
 "metadata": {
  "kernelspec": {
   "display_name": "Python 3 (ipykernel)",
   "language": "python",
   "name": "python3"
  },
  "language_info": {
   "codemirror_mode": {
    "name": "ipython",
    "version": 3
   },
   "file_extension": ".py",
   "mimetype": "text/x-python",
   "name": "python",
   "nbconvert_exporter": "python",
   "pygments_lexer": "ipython3",
   "version": "3.9.7"
  }
 },
 "nbformat": 4,
 "nbformat_minor": 5
}
