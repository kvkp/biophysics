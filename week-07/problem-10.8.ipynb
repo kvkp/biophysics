{
 "cells": [
  {
   "cell_type": "markdown",
   "id": "28934906",
   "metadata": {},
   "source": [
    "# 10.8 PROBABILITY OF ZERO COPIES\n",
    "\n",
    "Use this notebook to store your work for this problem."
   ]
  },
  {
   "cell_type": "code",
   "execution_count": 18,
   "id": "755a861e",
   "metadata": {},
   "outputs": [
    {
     "data": {
      "text/plain": [
       "(array([38., 26., 25., 15., 14.,  8.,  4.,  7.,  1.,  3.,  3.,  0.,  2.,\n",
       "         1.,  1.,  0.,  1.,  0.,  0.,  1.]),\n",
       " array([0.0038817 , 0.18484734, 0.36581299, 0.54677863, 0.72774427,\n",
       "        0.90870992, 1.08967556, 1.2706412 , 1.45160685, 1.63257249,\n",
       "        1.81353813, 1.99450378, 2.17546942, 2.35643506, 2.53740071,\n",
       "        2.71836635, 2.89933199, 3.08029764, 3.26126328, 3.44222892,\n",
       "        3.62319457]),\n",
       " <BarContainer object of 20 artists>)"
      ]
     },
     "execution_count": 18,
     "metadata": {},
     "output_type": "execute_result"
    },
    {
     "data": {
      "image/png": "[encoded data removed]",
      "text/plain": [
       "<Figure size 432x288 with 1 Axes>"
      ]
     },
     "metadata": {
      "needs_background": "light"
     },
     "output_type": "display_data"
    }
   ],
   "source": [
    "import numpy as np\n",
    "import matplotlib.pyplot as plt\n",
    "import math\n",
    "from scipy.special import factorial\n",
    "from numpy.random import default_rng\n",
    "from scipy.signal import convolve\n",
    "rand = default_rng().random\n",
    "\n",
    "\n",
    "\n",
    "\n",
    "l0 = 0\n",
    "beta_birth = 1.5\n",
    "k_death = 0.014\n",
    "trials = 150\n",
    "N = 1\n",
    "l = 10\n",
    "T = 0\n",
    "k = []\n",
    "k0=[]\n",
    "k1=[]\n",
    "k2=[]\n",
    "k3=[]\n",
    "k4=[]\n",
    "k5=[]\n",
    "k6=[]\n",
    "k7=[]\n",
    "k8=[]\n",
    "k9=[]\n",
    "k10=[]\n",
    "for i in range(trials):\n",
    "    l = 10\n",
    "    T = 0\n",
    "    for n in range(N):\n",
    "        rate = beta_birth + k_death * l\n",
    "        t = -1/rate*np.log(rand())\n",
    "        xi = beta_birth / rate\n",
    "        event = rand() < xi\n",
    "        if event:\n",
    "            l = l+1\n",
    "        else:\n",
    "            l = l-1\n",
    "        T = T+t\n",
    "        #plt.plot(T,l,'.')\n",
    "        #print(T,l)\n",
    "        #array_length = len(T)\n",
    "        #w = array_length -1\n",
    "        #point = [T,l]\n",
    "        #for i in range(w):\n",
    "            #location = steps.cumsum()\n",
    "        #last_element = T[array_length - w]\n",
    "            #for u in range(w):\n",
    "        #print(point)\n",
    "        k0.append(T)\n",
    "        k1.append(l)\n",
    "            \n",
    "            \n",
    "#x = np.linspace(10,361,360)\n",
    "#x2 = np.linspace(65,361,360)\n",
    "#y = 30*np.log(0.02*x)+50\n",
    "#y2 = 100*(x2-60)**0.1-80\n",
    "\n",
    "            \n",
    "#print(k0)\n",
    "#print(k1)\n",
    "plt.hist(k0, bins=20)\n",
    "#plt.plot(k0,k1,'.')\n",
    "#mean_x = np.mean((k0), axis=0)\n",
    "#mean_y = np.mean((k1))\n",
    "#plt.plot(mean_x,mean_y, color='black')\n",
    "#plt.show()\n",
    "#plt.plot(x, y, color='red')\n",
    "#plt.plot(x,y2, color='green')"
   ]
  },
  {
   "cell_type": "code",
   "execution_count": 17,
   "id": "54172814",
   "metadata": {},
   "outputs": [
    {
     "data": {
      "text/plain": [
       "(array([5.908e+03, 3.658e+03, 2.133e+03, 1.296e+03, 7.950e+02, 4.760e+02,\n",
       "        2.820e+02, 1.760e+02, 1.050e+02, 6.100e+01, 4.500e+01, 2.500e+01,\n",
       "        1.700e+01, 1.100e+01, 3.000e+00, 3.000e+00, 5.000e+00, 0.000e+00,\n",
       "        0.000e+00, 1.000e+00]),\n",
       " array([3.60354376e-05, 3.07198095e-01, 6.14360154e-01, 9.21522214e-01,\n",
       "        1.22868427e+00, 1.53584633e+00, 1.84300839e+00, 2.15017045e+00,\n",
       "        2.45733251e+00, 2.76449457e+00, 3.07165663e+00, 3.37881869e+00,\n",
       "        3.68598075e+00, 3.99314281e+00, 4.30030487e+00, 4.60746693e+00,\n",
       "        4.91462899e+00, 5.22179105e+00, 5.52895311e+00, 5.83611517e+00,\n",
       "        6.14327723e+00]),\n",
       " <BarContainer object of 20 artists>)"
      ]
     },
     "execution_count": 17,
     "metadata": {},
     "output_type": "execute_result"
    },
    {
     "data": {
      "image/png": "[encoded data removed]",
      "text/plain": [
       "<Figure size 432x288 with 1 Axes>"
      ]
     },
     "metadata": {
      "needs_background": "light"
     },
     "output_type": "display_data"
    }
   ],
   "source": [
    "import numpy as np\n",
    "import matplotlib.pyplot as plt\n",
    "import math\n",
    "from scipy.special import factorial\n",
    "from numpy.random import default_rng\n",
    "from scipy.signal import convolve\n",
    "rand = default_rng().random\n",
    "\n",
    "\n",
    "\n",
    "\n",
    "l0 = 0\n",
    "beta_birth = 1.5\n",
    "k_death = 0.014\n",
    "trials = 15000\n",
    "N = 1\n",
    "l = 10\n",
    "T = 0\n",
    "k = []\n",
    "k0=[]\n",
    "k1=[]\n",
    "k2=[]\n",
    "k3=[]\n",
    "k4=[]\n",
    "k5=[]\n",
    "k6=[]\n",
    "k7=[]\n",
    "k8=[]\n",
    "k9=[]\n",
    "k10=[]\n",
    "for i in range(trials):\n",
    "    l = 10\n",
    "    T = 0\n",
    "    for n in range(N):\n",
    "        rate = beta_birth + k_death * l\n",
    "        t = -1/rate*np.log(rand())\n",
    "        xi = beta_birth / rate\n",
    "        event = rand() < xi\n",
    "        if event:\n",
    "            l = l+1\n",
    "        else:\n",
    "            l = l-1\n",
    "        T = T+t\n",
    "        #plt.plot(T,l,'.')\n",
    "        #print(T,l)\n",
    "        #array_length = len(T)\n",
    "        #w = array_length -1\n",
    "        #point = [T,l]\n",
    "        #for i in range(w):\n",
    "            #location = steps.cumsum()\n",
    "        #last_element = T[array_length - w]\n",
    "            #for u in range(w):\n",
    "        #print(point)\n",
    "        k0.append(T)\n",
    "        k1.append(l)\n",
    "            \n",
    "            \n",
    "#x = np.linspace(10,361,360)\n",
    "#x2 = np.linspace(65,361,360)\n",
    "#y = 30*np.log(0.02*x)+50\n",
    "#y2 = 100*(x2-60)**0.1-80\n",
    "\n",
    "            \n",
    "#print(k0)\n",
    "#print(k1)\n",
    "plt.hist(k0, bins=20)\n",
    "#plt.plot(k0,k1,'.')\n",
    "#mean_x = np.mean((k0), axis=0)\n",
    "#mean_y = np.mean((k1))\n",
    "#plt.plot(mean_x,mean_y, color='black')\n",
    "#plt.show()\n",
    "#plt.plot(x, y, color='red')\n",
    "#plt.plot(x,y2, color='green')"
   ]
  },
  {
   "cell_type": "code",
   "execution_count": 19,
   "id": "0eeec166",
   "metadata": {},
   "outputs": [
    {
     "data": {
      "text/plain": [
       "[]"
      ]
     },
     "execution_count": 19,
     "metadata": {},
     "output_type": "execute_result"
    },
    {
     "data": {
      "image/png": "[encoded data removed]",
      "text/plain": [
       "<Figure size 432x288 with 1 Axes>"
      ]
     },
     "metadata": {
      "needs_background": "light"
     },
     "output_type": "display_data"
    }
   ],
   "source": [
    "import numpy as np\n",
    "import matplotlib.pyplot as plt\n",
    "import math\n",
    "from scipy.special import factorial\n",
    "from numpy.random import default_rng\n",
    "from scipy.signal import convolve\n",
    "rand = default_rng().random\n",
    "\n",
    "\n",
    "\n",
    "\n",
    "l0 = 0\n",
    "beta_birth = 1.5\n",
    "k_death = 0.014\n",
    "trials = 15000\n",
    "N = 1\n",
    "l = 10\n",
    "T = 0\n",
    "k = []\n",
    "k0=[]\n",
    "k1=[]\n",
    "k2=[]\n",
    "k3=[]\n",
    "k4=[]\n",
    "k5=[]\n",
    "k6=[]\n",
    "k7=[]\n",
    "k8=[]\n",
    "k9=[]\n",
    "k10=[]\n",
    "for i in range(trials):\n",
    "    l = 10\n",
    "    T = 0\n",
    "    for n in range(N):\n",
    "        rate = beta_birth + k_death * l\n",
    "        t = -1/rate*np.log(rand())\n",
    "        xi = beta_birth / rate\n",
    "        event = rand() < xi\n",
    "        if event:\n",
    "            l = l+1\n",
    "        else:\n",
    "            l = l-1\n",
    "        T = T+t\n",
    "        #plt.plot(T,l,'.')\n",
    "        #print(T,l)\n",
    "        #array_length = len(T)\n",
    "        #w = array_length -1\n",
    "        #point = [T,l]\n",
    "        #for i in range(w):\n",
    "            #location = steps.cumsum()\n",
    "        #last_element = T[array_length - w]\n",
    "            #for u in range(w):\n",
    "        #print(point)\n",
    "        k0.append(T)\n",
    "        k1.append(l)\n",
    "            \n",
    "            \n",
    "#x = np.linspace(10,361,360)\n",
    "#x2 = np.linspace(65,361,360)\n",
    "#y = 30*np.log(0.02*x)+50\n",
    "#y2 = 100*(x2-60)**0.1-80\n",
    "\n",
    "            \n",
    "#print(k0)\n",
    "#print(k1)\n",
    "plt.hist(k0, bins=20)\n",
    "plt.semilogy()\n",
    "#plt.plot(k0,k1,'.')\n",
    "#mean_x = np.mean((k0), axis=0)\n",
    "#mean_y = np.mean((k1))\n",
    "#plt.plot(mean_x,mean_y, color='black')\n",
    "#plt.show()\n",
    "#plt.plot(x, y, color='red')\n",
    "#plt.plot(x,y2, color='green')"
   ]
  },
  {
   "cell_type": "markdown",
   "id": "9d712de2",
   "metadata": {},
   "source": [
    "<l(t)>- the average number of copies at time t was solved for in problem 10.5\n",
    "\n",
    "<Pl(t)=(0)>- the probability that a sell still has zero copies at time t is what i did here\n",
    "\n",
    "the first bar of code is creating the base code and it appears to be logorithmic\n",
    "\n",
    "the second is the same code with the total number of trials raised from 150 to 15000 to smooth the lines out\n",
    "\n",
    "third is the data from 15000 trials graphed on a semilog plot where we can definitly see a logorithmic relationship similar to the one in figure 10.6c"
   ]
  },
  {
   "cell_type": "code",
   "execution_count": null,
   "id": "83cc7393",
   "metadata": {},
   "outputs": [],
   "source": []
  }
 ],
 "metadata": {
  "kernelspec": {
   "display_name": "Python 3 (ipykernel)",
   "language": "python",
   "name": "python3"
  },
  "language_info": {
   "codemirror_mode": {
    "name": "ipython",
    "version": 3
   },
   "file_extension": ".py",
   "mimetype": "text/x-python",
   "name": "python",
   "nbconvert_exporter": "python",
   "pygments_lexer": "ipython3",
   "version": "3.9.7"
  }
 },
 "nbformat": 4,
 "nbformat_minor": 5
}
