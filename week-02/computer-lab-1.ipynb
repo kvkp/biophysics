{
 "cells": [
  {
   "cell_type": "markdown",
   "id": "b7cf91a4",
   "metadata": {},
   "source": [
    "# Computer Lab 1\n",
    "\n",
    "Work through the first half of \"First Computer Lab\" (Section 5.1) in _A Student's Guide to Python._  This exercise ties together everything we did in Week 1.\n",
    "\n",
    "You can use this notebook to store your code, plots, and notes, or you can write a ___script___ (see Section 3.3) that will carry out the analysis and produce the plots, and simply write your comments in this notebook.  If you write a script, it should save your plot with the data and your best fit to a PDF in this folder when it runs.\n"
   ]
  },
  {
   "cell_type": "code",
   "execution_count": 17,
   "id": "0f647763",
   "metadata": {},
   "outputs": [
    {
     "data": {
      "text/plain": [
       "[<matplotlib.lines.Line2D at 0x212a0824460>]"
      ]
     },
     "execution_count": 17,
     "metadata": {},
     "output_type": "execute_result"
    },
    {
     "data": {
      "image/png": "[encoded data removed]",
      "text/plain": [
       "<Figure size 432x288 with 1 Axes>"
      ]
     },
     "metadata": {
      "needs_background": "light"
     },
     "output_type": "display_data"
    }
   ],
   "source": [
    "import numpy as np\n",
    "import matplotlib.pyplot as plt\n",
    "import math\n",
    "\n",
    "a=1\n",
    "al=1\n",
    "\n",
    "b=1\n",
    "be=1\n",
    "\n",
    "#time=1\n",
    "\n",
    "time = np.linspace(0,100,100)\n",
    "vl = a*np.exp(-al*time)+b*np.exp(-be*time)\n",
    "\n",
    "plt.plot(time,vl)"
   ]
  },
  {
   "cell_type": "code",
   "execution_count": null,
   "id": "c234fbec",
   "metadata": {},
   "outputs": [],
   "source": [
    "\n",
    "\n",
    "import numpy as np\n",
    "import matplotlib.pyplot as plt\n",
    "import math\n",
    "\n",
    "time, population = np.loadtxt(\"population.csv\", delimiter = \",\" , unpack = True)\n",
    "\n",
    "a=1\n",
    "al=1\n",
    "\n",
    "b=1\n",
    "be=1\n",
    "\n",
    "#time=1\n",
    "\n",
    "time = np.linspace(0,100,100)\n",
    "vl = a*np.exp(-al*time)+b*np.exp(-be*time)\n",
    "\n",
    "plt.plot(time,vl)"
   ]
  }
 ],
 "metadata": {
  "kernelspec": {
   "display_name": "Python 3 (ipykernel)",
   "language": "python",
   "name": "python3"
  },
  "language_info": {
   "codemirror_mode": {
    "name": "ipython",
    "version": 3
   },
   "file_extension": ".py",
   "mimetype": "text/x-python",
   "name": "python",
   "nbconvert_exporter": "python",
   "pygments_lexer": "ipython3",
   "version": "3.9.7"
  }
 },
 "nbformat": 4,
 "nbformat_minor": 5
}
