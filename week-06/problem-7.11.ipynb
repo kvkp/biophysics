{
 "cells": [
  {
   "cell_type": "markdown",
   "id": "13c1ec54",
   "metadata": {},
   "source": [
    "# PROBLEM 7.11\n",
    "\n",
    "This problem analyzes the same data set as Problem 5.24.  We are going to fit a \"Cauchy-like\" distribution to the data.\n",
    "\n",
    "This problem uses Dataset 7.  If $x_n$ are the elements of this data set, we want to analyze the variable\n",
    "$$y_n = \\ln \\left( \\dfrac{x_{n+1}}{x_n} \\right)$$\n",
    "\n",
    "Load the data and plot the array $y$."
   ]
  },
  {
   "cell_type": "code",
   "execution_count": 20,
   "id": "27c26ef1",
   "metadata": {},
   "outputs": [
    {
     "data": {
      "text/plain": [
       "Text(0.5, 1.0, 'Stocks, I only wish I got more Apple in 2009')"
      ]
     },
     "execution_count": 20,
     "metadata": {},
     "output_type": "execute_result"
    },
    {
     "data": {
      "image/png": "[encoded data removed]",
      "text/plain": [
       "<Figure size 432x288 with 1 Axes>"
      ]
     },
     "metadata": {
      "needs_background": "light"
     },
     "output_type": "display_data"
    }
   ],
   "source": [
    "import numpy as np\n",
    "import matplotlib.pyplot as plt\n",
    "import math\n",
    "from scipy.special import factorial\n",
    "from numpy.random import default_rng\n",
    "from scipy.signal import convolve\n",
    "\n",
    "\n",
    "data = np.loadtxt(\"djiweekly.csv\", delimiter = \",\" , unpack = True)\n",
    "\n",
    "plt.plot(data, 'o', color='green')\n",
    "plt.xlabel(\"week, starting in 1921\")\n",
    "plt.ylabel(\"Value\")\n",
    "plt.title(\"Stocks, I only wish I got more Apple in 2009\")"
   ]
  },
  {
   "cell_type": "markdown",
   "id": "f4b152f0",
   "metadata": {},
   "source": [
    "We are going to attempt to fit the data with a distribution of the form\n",
    "$$\\mathcal{P}(y;\\alpha,\\mu,\\eta) = \\dfrac{A}{1 + \\left( \\dfrac{y-\\mu}{\\eta} \\right)^\\alpha}$$\n",
    "We will set $\\alpha = 4$ for now.  You can explore other values of $\\alpha$ below, if you are interested."
   ]
  },
  {
   "cell_type": "markdown",
   "id": "3ddeac3b",
   "metadata": {},
   "source": [
    "## (a) Likelihood\n",
    "\n",
    "Evaluate the likelihood of the dataset and the log likelihood of the data set using $\\alpha=4$, $\\mu = 0$, and $\\eta = 0.02$."
   ]
  },
  {
   "cell_type": "code",
   "execution_count": 34,
   "id": "25fe20f0",
   "metadata": {},
   "outputs": [
    {
     "ename": "TypeError",
     "evalue": "only size-1 arrays can be converted to Python scalars",
     "output_type": "error",
     "traceback": [
      "\u001b[1;31m---------------------------------------------------------------------------\u001b[0m",
      "\u001b[1;31mTypeError\u001b[0m                                 Traceback (most recent call last)",
      "\u001b[1;32m~\\AppData\\Local\\Temp/ipykernel_21684/2664669558.py\u001b[0m in \u001b[0;36m<module>\u001b[1;34m\u001b[0m\n\u001b[0;32m      4\u001b[0m \u001b[0mA\u001b[0m \u001b[1;33m=\u001b[0m \u001b[1;36m100000\u001b[0m\u001b[1;33m\u001b[0m\u001b[1;33m\u001b[0m\u001b[0m\n\u001b[0;32m      5\u001b[0m \u001b[0mt\u001b[0m \u001b[1;33m=\u001b[0m \u001b[1;33m(\u001b[0m\u001b[0mdata\u001b[0m\u001b[1;33m+\u001b[0m\u001b[1;36m1\u001b[0m\u001b[1;33m)\u001b[0m\u001b[1;33m/\u001b[0m\u001b[0mdata\u001b[0m\u001b[1;33m\u001b[0m\u001b[1;33m\u001b[0m\u001b[0m\n\u001b[1;32m----> 6\u001b[1;33m \u001b[0my\u001b[0m \u001b[1;33m=\u001b[0m \u001b[0mmath\u001b[0m\u001b[1;33m.\u001b[0m\u001b[0mlog\u001b[0m\u001b[1;33m(\u001b[0m\u001b[0mt\u001b[0m\u001b[1;33m)\u001b[0m\u001b[1;33m\u001b[0m\u001b[1;33m\u001b[0m\u001b[0m\n\u001b[0m\u001b[0;32m      7\u001b[0m \u001b[1;33m\u001b[0m\u001b[0m\n\u001b[0;32m      8\u001b[0m \u001b[0mP\u001b[0m \u001b[1;33m=\u001b[0m \u001b[0mA\u001b[0m\u001b[1;33m/\u001b[0m\u001b[1;33m(\u001b[0m\u001b[1;36m1\u001b[0m\u001b[1;33m+\u001b[0m\u001b[1;33m(\u001b[0m\u001b[1;33m(\u001b[0m\u001b[0mt\u001b[0m\u001b[1;33m-\u001b[0m\u001b[0mm\u001b[0m\u001b[1;33m)\u001b[0m\u001b[1;33m/\u001b[0m\u001b[0mn\u001b[0m\u001b[1;33m)\u001b[0m\u001b[1;33m**\u001b[0m\u001b[0ma\u001b[0m\u001b[1;33m)\u001b[0m\u001b[1;33m\u001b[0m\u001b[1;33m\u001b[0m\u001b[0m\n",
      "\u001b[1;31mTypeError\u001b[0m: only size-1 arrays can be converted to Python scalars"
     ]
    }
   ],
   "source": [
    "a = 4\n",
    "m = 0\n",
    "n = 0.02\n",
    "A = 100000\n",
    "t = (data+1)/data\n",
    "y = math.log(t)\n",
    "\n",
    "P = A/(1+((t-m)/n)**a)\n",
    "\n",
    "\n",
    "plt.plot(t, P, color='red')\n",
    "\n",
    "#plt.plot(data, 'o', color='green')\n",
    "#plt.xlabel(\"week, starting in 1921\")\n",
    "#plt.ylabel(\"Value\")\n",
    "#plt.title(\"Stocks, I only wish I got more Apple in 2009\")\n",
    "\n"
   ]
  },
  {
   "cell_type": "markdown",
   "id": "00da98da",
   "metadata": {},
   "source": [
    "## (b) Maximum Likelihood\n",
    "\n",
    "Compute the log likelihood $L(\\mu,\\eta)$ — holding $\\alpha=4$ constant — on a grid of values for $\\mu$ and $\\eta$ and make a surface plot of this function.  (See Section 6.4 for some useful Python tools.)"
   ]
  },
  {
   "cell_type": "code",
   "execution_count": null,
   "id": "9d4caaaa",
   "metadata": {},
   "outputs": [],
   "source": []
  },
  {
   "cell_type": "markdown",
   "id": "b205b64a",
   "metadata": {},
   "source": [
    "## (c) Normal Distribution\n",
    "\n",
    "Repeat the analysis of part (b), but using a normal distribution for $y$:\n",
    "$$\\mathcal{P}(y;\\mu,\\sigma) = \\dfrac{1}{\\sigma \\sqrt{2\\pi}} e^{-(y-\\mu)^2 / 2\\sigma^2 }$$\n",
    "\n",
    "Evaluate the log likelihood on a grid of $\\mu$ and $\\sigma$ values and make a surface plot of the result."
   ]
  },
  {
   "cell_type": "code",
   "execution_count": null,
   "id": "80fdaa35",
   "metadata": {},
   "outputs": [],
   "source": []
  },
  {
   "cell_type": "markdown",
   "id": "912653e5",
   "metadata": {},
   "source": [
    "Use your plots or other methods to find the optimal values of $\\mu$ and $\\eta$ for the Cauchy-like distribution and the optimal values of $\\mu$ and $\\sigma$ for the normal distribution.\n",
    "\n",
    "Plot the data, along with your best Cauchy-like distribution and your best normal distribution, and comment."
   ]
  },
  {
   "cell_type": "code",
   "execution_count": null,
   "id": "dc3dc9dc",
   "metadata": {},
   "outputs": [],
   "source": []
  },
  {
   "cell_type": "markdown",
   "id": "6921736e",
   "metadata": {},
   "source": [
    "Based on your analysis, which model best fits the data set?  Which has the greatest likelihood?"
   ]
  },
  {
   "cell_type": "markdown",
   "id": "69371c8b",
   "metadata": {},
   "source": [
    "***Replace with your comments.***"
   ]
  },
  {
   "cell_type": "code",
   "execution_count": null,
   "id": "dd59f37a",
   "metadata": {},
   "outputs": [],
   "source": []
  },
  {
   "cell_type": "markdown",
   "id": "7e3dd7ba",
   "metadata": {},
   "source": [
    "***Replace with your comments.***"
   ]
  },
  {
   "cell_type": "markdown",
   "id": "d3dcd83d",
   "metadata": {},
   "source": [
    "## Challenge #1\n",
    "\n",
    "Carry the analysis further and optimize the exponent $\\alpha$, together with $\\mu$ and $\\alpha$, for the Cauchy-like distribution."
   ]
  },
  {
   "cell_type": "code",
   "execution_count": null,
   "id": "e305b856",
   "metadata": {},
   "outputs": [],
   "source": []
  },
  {
   "cell_type": "markdown",
   "id": "6bd9ef8b",
   "metadata": {},
   "source": [
    "Is $\\alpha = 4$ a good choice?"
   ]
  },
  {
   "cell_type": "markdown",
   "id": "bfc3f91f",
   "metadata": {},
   "source": [
    "***Replace with your comments.***"
   ]
  },
  {
   "cell_type": "markdown",
   "id": "9f5a0ec2",
   "metadata": {},
   "source": [
    "## Challenge #2\n",
    "\n",
    "Compute credible intervals for $\\mu$ and $\\eta$ — and $\\alpha$, if you can — for the Cauchy-like distribution at the 90 percent confidence level."
   ]
  },
  {
   "cell_type": "code",
   "execution_count": null,
   "id": "95a95ea4",
   "metadata": {},
   "outputs": [],
   "source": []
  },
  {
   "cell_type": "markdown",
   "id": "b71dbca1",
   "metadata": {},
   "source": [
    "Compute credible intervals for $\\mu$ and $\\sigma$ for the normal distribution at the 90 percent confidence level."
   ]
  },
  {
   "cell_type": "code",
   "execution_count": null,
   "id": "f26f443e",
   "metadata": {},
   "outputs": [],
   "source": []
  }
 ],
 "metadata": {
  "kernelspec": {
   "display_name": "Python 3 (ipykernel)",
   "language": "python",
   "name": "python3"
  },
  "language_info": {
   "codemirror_mode": {
    "name": "ipython",
    "version": 3
   },
   "file_extension": ".py",
   "mimetype": "text/x-python",
   "name": "python",
   "nbconvert_exporter": "python",
   "pygments_lexer": "ipython3",
   "version": "3.9.7"
  }
 },
 "nbformat": 4,
 "nbformat_minor": 5
}
